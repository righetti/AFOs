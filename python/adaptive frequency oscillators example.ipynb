{
 "cells": [
  {
   "cell_type": "markdown",
   "metadata": {},
   "source": [
    "# Example notebook to show how adaptive frequency oscillators (AFOs) work\n",
    "\n",
    "In the first part of the notebook, we show how to implement an AFO in native python. Then we show how to use the c++ library to make faster simulation in the second part of the notebook. An example with an input with a time varying frequency is shown last"
   ]
  },
  {
   "cell_type": "code",
   "execution_count": 1,
   "metadata": {},
   "outputs": [],
   "source": [
    "# standard imports\n",
    "%matplotlib widget\n",
    "import numpy as np\n",
    "import matplotlib.pylab as plt"
   ]
  },
  {
   "cell_type": "markdown",
   "metadata": {},
   "source": [
    "## Adaptive Frequency Oscillator in Python\n",
    "We wish to implement an AFO whose equation is\n",
    "$$\\begin{align} \\dot{\\phi} & = \\lambda \\omega - K \\sin(\\phi) F(t) \\\\ \\dot{\\omega} &= - K \\sin(\\phi) F(t) \\end{align}$$\n",
    "where $$F(t) = \\sin(\\omega_F t)$$"
   ]
  },
  {
   "cell_type": "code",
   "execution_count": 2,
   "metadata": {},
   "outputs": [],
   "source": [
    "def integrate_afo(phi0, omega0, omegaF, t_init, t_end, K=10000, lamb=1., save_dt=0.001, dt=0.00001):\n",
    "    \"\"\" this function integrates an AFO from t_init to t_end \n",
    "    it starts with initial conditions phi0 and omega0\n",
    "    returns: numpy vectors t, phi and omega\n",
    "    \"\"\"\n",
    "    # hoe many integration steps in the internal loop\n",
    "    internal_step = int(round(save_dt/dt))\n",
    "\n",
    "    # how many steps till t_end\n",
    "    num_steps = int(round((t_end - t_init)/save_dt))\n",
    "\n",
    "    # we preallocate memory\n",
    "    t = np.zeros(num_steps+1)\n",
    "    phi = np.zeros_like(t)\n",
    "    omega = np.zeros_like(t)\n",
    "    \n",
    "    # we set initial conditions\n",
    "    t[0] = t_init\n",
    "    omega[0] = omega0\n",
    "    phi[0] = phi0\n",
    "    \n",
    "    # our temp variables\n",
    "    phi_temp = phi0\n",
    "    omega_temp = omega0\n",
    "    t_temp = t_init\n",
    "    \n",
    "    # the main integration loop\n",
    "    for i in range(num_steps):\n",
    "        #internal integration loop\n",
    "        for j in range(internal_step):\n",
    "            pert = -K * np.sin(omegaF * t_temp) * np.sin(phi_temp)\n",
    "            phi_temp += (lamb * omega_temp + pert)*dt\n",
    "            omega_temp += pert*dt\n",
    "            t_temp += dt\n",
    "        \n",
    "        # save data\n",
    "        t[i+1] = t_temp\n",
    "        phi[i+1] = phi_temp\n",
    "        omega[i+1] = omega_temp\n",
    "    \n",
    "    return t, phi, omega"
   ]
  },
  {
   "cell_type": "code",
   "execution_count": 3,
   "metadata": {},
   "outputs": [
    {
     "data": {
      "application/vnd.jupyter.widget-view+json": {
       "model_id": "fb6a356a6fbe455ba101bb71ec433819",
       "version_major": 2,
       "version_minor": 0
      },
      "text/plain": [
       "Canvas(toolbar=Toolbar(toolitems=[('Home', 'Reset original view', 'home', 'home'), ('Back', 'Back to previous …"
      ]
     },
     "metadata": {},
     "output_type": "display_data"
    },
    {
     "data": {
      "text/plain": [
       "Text(0.5, 0, 'Time [s]')"
      ]
     },
     "execution_count": 3,
     "metadata": {},
     "output_type": "execute_result"
    }
   ],
   "source": [
    "# we define the coupling stength, input frequency, lambda\n",
    "K =  1000.\n",
    "omegaF = 30\n",
    "lamb = 1.\n",
    "\n",
    "# we define the time resolution (save_dt) and the internal integration step dt\n",
    "dt = 0.00001\n",
    "save_dt = 0.001\n",
    "\n",
    "# duration of the integration\n",
    "t_end = 20.\n",
    "t_init = 0.\n",
    "\n",
    "phi0 = 0\n",
    "omega0 = 100\n",
    "\n",
    "# we integrate\n",
    "t, phi, omega = integrate_afo(phi0, omega0, omegaF, t_init, t_end, K=10000, lamb=1., save_dt=0.001, dt=0.00001)\n",
    "\n",
    "# now we plot the results\n",
    "plt.figure()\n",
    "plt.subplot(2,1,1)\n",
    "plt.plot(t, phi)\n",
    "plt.ylabel(r'$\\phi$')\n",
    "plt.subplot(2,1,2)\n",
    "plt.plot(t, lamb * omega)\n",
    "plt.plot([t_init, t_end],[omegaF, omegaF], '--k')\n",
    "plt.ylabel(r'$\\omega$')\n",
    "plt.xlabel('Time [s]')"
   ]
  },
  {
   "cell_type": "markdown",
   "metadata": {},
   "source": [
    "## Adaptive Frequency Oscillator using C++ library and python bindings\n",
    "Now we do the same using the c++ library (it needs to be compiled and installed - cf. README)"
   ]
  },
  {
   "cell_type": "code",
   "execution_count": 4,
   "metadata": {},
   "outputs": [],
   "source": [
    "import pyafos # we import the library"
   ]
  },
  {
   "cell_type": "code",
   "execution_count": 5,
   "metadata": {},
   "outputs": [
    {
     "data": {
      "application/vnd.jupyter.widget-view+json": {
       "model_id": "152b7dbb23644537816d31f6ce25406e",
       "version_major": 2,
       "version_minor": 0
      },
      "text/plain": [
       "Canvas(toolbar=Toolbar(toolitems=[('Home', 'Reset original view', 'home', 'home'), ('Back', 'Back to previous …"
      ]
     },
     "metadata": {},
     "output_type": "display_data"
    },
    {
     "data": {
      "text/plain": [
       "Text(0.5, 0, 'Time [s]')"
      ]
     },
     "execution_count": 5,
     "metadata": {},
     "output_type": "execute_result"
    }
   ],
   "source": [
    "# we define the coupling stength, input frequency, lambda\n",
    "K =  1000.\n",
    "omegaF = 30\n",
    "lamb = 1.\n",
    "\n",
    "# we define the time resolution (save_dt) and the internal integration step dt\n",
    "dt = 0.00001\n",
    "save_dt = 0.001\n",
    "\n",
    "# duration of the integration\n",
    "t_end = 20.\n",
    "t_init = 0.\n",
    "\n",
    "phi0 = 0\n",
    "omega0 = 100\n",
    "\n",
    "#run an integration\n",
    "oscill = pyafos.PhaseAFO()\n",
    "oscill.initialize(K, lamb)\n",
    "oscill.input().vec_of_sines(np.array([omegaF]),np.array([1.0]),np.array([0.0]))\n",
    "pyafos.integrate(oscill, t_init,t_end,np.array([phi0,omega0]),dt,save_dt)\n",
    "\n",
    "#get the data to be plotted    \n",
    "t = oscill.t()\n",
    "phi = oscill.y()[0,:]\n",
    "omega = oscill.y()[1,:]\n",
    "\n",
    "# now we plot the results\n",
    "plt.figure()\n",
    "plt.subplot(2,1,1)\n",
    "plt.plot(t, phi)\n",
    "plt.ylabel(r'$\\phi$')\n",
    "plt.subplot(2,1,2)\n",
    "plt.plot(t, lamb * omega)\n",
    "plt.plot([t_init, t_end],[omegaF, omegaF], '--k')\n",
    "plt.ylabel(r'$\\omega$')\n",
    "plt.xlabel('Time [s]')"
   ]
  },
  {
   "cell_type": "markdown",
   "metadata": {},
   "source": [
    "## Tracking a time varying frequency\n",
    "\n",
    "We want to track a frequency that is changing over time $F(t) = \\sin\\left(\\omega_F t + \\frac{1}{\\omega_C}\\sin(\\omega_C t)\\right)$"
   ]
  },
  {
   "cell_type": "code",
   "execution_count": 6,
   "metadata": {},
   "outputs": [
    {
     "data": {
      "application/vnd.jupyter.widget-view+json": {
       "model_id": "50e29aeb16aa40bbbb9e69db63bc8ad4",
       "version_major": 2,
       "version_minor": 0
      },
      "text/plain": [
       "Canvas(toolbar=Toolbar(toolitems=[('Home', 'Reset original view', 'home', 'home'), ('Back', 'Back to previous …"
      ]
     },
     "metadata": {},
     "output_type": "display_data"
    },
    {
     "data": {
      "text/plain": [
       "Text(0.5, 0, 'Time [s]')"
      ]
     },
     "execution_count": 6,
     "metadata": {},
     "output_type": "execute_result"
    }
   ],
   "source": [
    "# we define the coupling stength, input frequency, lambda\n",
    "K =  1000.\n",
    "omegaF = 50\n",
    "lamb = 1.\n",
    "omegaC = 0.5\n",
    "\n",
    "# we define the time resolution (save_dt) and the internal integration step dt\n",
    "dt = 0.00001\n",
    "save_dt = 0.001\n",
    "\n",
    "# duration of the integration\n",
    "t_end = 50.\n",
    "t_init = 0.\n",
    "\n",
    "phi0 = 0\n",
    "omega0 = 40\n",
    "\n",
    "#run an integration\n",
    "oscill = pyafos.PhaseAFO()\n",
    "oscill.initialize(K, lamb)\n",
    "oscill.input().frequency_changing_sine(omegaF, omegaC)\n",
    "pyafos.integrate(oscill, t_init,t_end,np.array([phi0,omega0]),dt,save_dt)\n",
    "\n",
    "#get the data to be plotted    \n",
    "t = oscill.t()\n",
    "phi = oscill.y()[0,:]\n",
    "omega = oscill.y()[1,:]\n",
    "\n",
    "# now we plot the results\n",
    "plt.figure()\n",
    "plt.subplot(2,1,1)\n",
    "plt.plot(t, phi)\n",
    "plt.ylabel(r'$\\phi$')\n",
    "plt.subplot(2,1,2)\n",
    "plt.plot(t, lamb * omega)\n",
    "plt.plot(t, omegaF + np.sin(omegaC*t))\n",
    "plt.ylim([40,60])\n",
    "plt.ylabel(r'$\\omega$')\n",
    "plt.xlabel('Time [s]')"
   ]
  },
  {
   "cell_type": "code",
   "execution_count": null,
   "metadata": {},
   "outputs": [],
   "source": []
  }
 ],
 "metadata": {
  "kernelspec": {
   "display_name": "Python 3",
   "language": "python",
   "name": "python3"
  },
  "language_info": {
   "codemirror_mode": {
    "name": "ipython",
    "version": 3
   },
   "file_extension": ".py",
   "mimetype": "text/x-python",
   "name": "python",
   "nbconvert_exporter": "python",
   "pygments_lexer": "ipython3",
   "version": "3.8.4"
  }
 },
 "nbformat": 4,
 "nbformat_minor": 4
}
